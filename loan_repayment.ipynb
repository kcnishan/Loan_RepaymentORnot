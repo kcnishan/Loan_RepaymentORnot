{
 "cells": [
  {
   "cell_type": "code",
   "execution_count": 1,
   "metadata": {},
   "outputs": [],
   "source": [
    "import pandas as pd\n",
    "import numpy as np"
   ]
  },
  {
   "cell_type": "code",
   "execution_count": 2,
   "metadata": {},
   "outputs": [],
   "source": [
    "data=pd.read_csv('Loan-data.csv')"
   ]
  },
  {
   "cell_type": "code",
   "execution_count": 3,
   "metadata": {},
   "outputs": [
    {
     "data": {
      "text/html": [
       "<div>\n",
       "<style scoped>\n",
       "    .dataframe tbody tr th:only-of-type {\n",
       "        vertical-align: middle;\n",
       "    }\n",
       "\n",
       "    .dataframe tbody tr th {\n",
       "        vertical-align: top;\n",
       "    }\n",
       "\n",
       "    .dataframe thead th {\n",
       "        text-align: right;\n",
       "    }\n",
       "</style>\n",
       "<table border=\"1\" class=\"dataframe\">\n",
       "  <thead>\n",
       "    <tr style=\"text-align: right;\">\n",
       "      <th></th>\n",
       "      <th>Unnamed: 0</th>\n",
       "      <th>X1</th>\n",
       "      <th>X2</th>\n",
       "      <th>X3</th>\n",
       "      <th>X4</th>\n",
       "      <th>X5</th>\n",
       "      <th>X6</th>\n",
       "      <th>X7</th>\n",
       "      <th>X8</th>\n",
       "      <th>X9</th>\n",
       "      <th>...</th>\n",
       "      <th>X15</th>\n",
       "      <th>X16</th>\n",
       "      <th>X17</th>\n",
       "      <th>X18</th>\n",
       "      <th>X19</th>\n",
       "      <th>X20</th>\n",
       "      <th>X21</th>\n",
       "      <th>X22</th>\n",
       "      <th>X23</th>\n",
       "      <th>Y</th>\n",
       "    </tr>\n",
       "  </thead>\n",
       "  <tbody>\n",
       "    <tr>\n",
       "      <th>0</th>\n",
       "      <td>ID</td>\n",
       "      <td>LIMIT_BAL</td>\n",
       "      <td>SEX</td>\n",
       "      <td>EDUCATION</td>\n",
       "      <td>MARRIAGE</td>\n",
       "      <td>AGE</td>\n",
       "      <td>PAY_0</td>\n",
       "      <td>PAY_2</td>\n",
       "      <td>PAY_3</td>\n",
       "      <td>PAY_4</td>\n",
       "      <td>...</td>\n",
       "      <td>BILL_AMT4</td>\n",
       "      <td>BILL_AMT5</td>\n",
       "      <td>BILL_AMT6</td>\n",
       "      <td>PAY_AMT1</td>\n",
       "      <td>PAY_AMT2</td>\n",
       "      <td>PAY_AMT3</td>\n",
       "      <td>PAY_AMT4</td>\n",
       "      <td>PAY_AMT5</td>\n",
       "      <td>PAY_AMT6</td>\n",
       "      <td>default payment next month</td>\n",
       "    </tr>\n",
       "    <tr>\n",
       "      <th>1</th>\n",
       "      <td>1</td>\n",
       "      <td>20000</td>\n",
       "      <td>2</td>\n",
       "      <td>2</td>\n",
       "      <td>1</td>\n",
       "      <td>24</td>\n",
       "      <td>2</td>\n",
       "      <td>2</td>\n",
       "      <td>-1</td>\n",
       "      <td>-1</td>\n",
       "      <td>...</td>\n",
       "      <td>0</td>\n",
       "      <td>0</td>\n",
       "      <td>0</td>\n",
       "      <td>0</td>\n",
       "      <td>689</td>\n",
       "      <td>0</td>\n",
       "      <td>0</td>\n",
       "      <td>0</td>\n",
       "      <td>0</td>\n",
       "      <td>1</td>\n",
       "    </tr>\n",
       "    <tr>\n",
       "      <th>2</th>\n",
       "      <td>2</td>\n",
       "      <td>120000</td>\n",
       "      <td>2</td>\n",
       "      <td>2</td>\n",
       "      <td>2</td>\n",
       "      <td>26</td>\n",
       "      <td>-1</td>\n",
       "      <td>2</td>\n",
       "      <td>0</td>\n",
       "      <td>0</td>\n",
       "      <td>...</td>\n",
       "      <td>3272</td>\n",
       "      <td>3455</td>\n",
       "      <td>3261</td>\n",
       "      <td>0</td>\n",
       "      <td>1000</td>\n",
       "      <td>1000</td>\n",
       "      <td>1000</td>\n",
       "      <td>0</td>\n",
       "      <td>2000</td>\n",
       "      <td>1</td>\n",
       "    </tr>\n",
       "    <tr>\n",
       "      <th>3</th>\n",
       "      <td>3</td>\n",
       "      <td>90000</td>\n",
       "      <td>2</td>\n",
       "      <td>2</td>\n",
       "      <td>2</td>\n",
       "      <td>34</td>\n",
       "      <td>0</td>\n",
       "      <td>0</td>\n",
       "      <td>0</td>\n",
       "      <td>0</td>\n",
       "      <td>...</td>\n",
       "      <td>14331</td>\n",
       "      <td>14948</td>\n",
       "      <td>15549</td>\n",
       "      <td>1518</td>\n",
       "      <td>1500</td>\n",
       "      <td>1000</td>\n",
       "      <td>1000</td>\n",
       "      <td>1000</td>\n",
       "      <td>5000</td>\n",
       "      <td>0</td>\n",
       "    </tr>\n",
       "    <tr>\n",
       "      <th>4</th>\n",
       "      <td>4</td>\n",
       "      <td>50000</td>\n",
       "      <td>2</td>\n",
       "      <td>2</td>\n",
       "      <td>1</td>\n",
       "      <td>37</td>\n",
       "      <td>0</td>\n",
       "      <td>0</td>\n",
       "      <td>0</td>\n",
       "      <td>0</td>\n",
       "      <td>...</td>\n",
       "      <td>28314</td>\n",
       "      <td>28959</td>\n",
       "      <td>29547</td>\n",
       "      <td>2000</td>\n",
       "      <td>2019</td>\n",
       "      <td>1200</td>\n",
       "      <td>1100</td>\n",
       "      <td>1069</td>\n",
       "      <td>1000</td>\n",
       "      <td>0</td>\n",
       "    </tr>\n",
       "  </tbody>\n",
       "</table>\n",
       "<p>5 rows × 25 columns</p>\n",
       "</div>"
      ],
      "text/plain": [
       "  Unnamed: 0         X1   X2         X3        X4   X5     X6     X7     X8  \\\n",
       "0         ID  LIMIT_BAL  SEX  EDUCATION  MARRIAGE  AGE  PAY_0  PAY_2  PAY_3   \n",
       "1          1      20000    2          2         1   24      2      2     -1   \n",
       "2          2     120000    2          2         2   26     -1      2      0   \n",
       "3          3      90000    2          2         2   34      0      0      0   \n",
       "4          4      50000    2          2         1   37      0      0      0   \n",
       "\n",
       "      X9             ...                    X15        X16        X17  \\\n",
       "0  PAY_4             ...              BILL_AMT4  BILL_AMT5  BILL_AMT6   \n",
       "1     -1             ...                      0          0          0   \n",
       "2      0             ...                   3272       3455       3261   \n",
       "3      0             ...                  14331      14948      15549   \n",
       "4      0             ...                  28314      28959      29547   \n",
       "\n",
       "        X18       X19       X20       X21       X22       X23  \\\n",
       "0  PAY_AMT1  PAY_AMT2  PAY_AMT3  PAY_AMT4  PAY_AMT5  PAY_AMT6   \n",
       "1         0       689         0         0         0         0   \n",
       "2         0      1000      1000      1000         0      2000   \n",
       "3      1518      1500      1000      1000      1000      5000   \n",
       "4      2000      2019      1200      1100      1069      1000   \n",
       "\n",
       "                            Y  \n",
       "0  default payment next month  \n",
       "1                           1  \n",
       "2                           1  \n",
       "3                           0  \n",
       "4                           0  \n",
       "\n",
       "[5 rows x 25 columns]"
      ]
     },
     "execution_count": 3,
     "metadata": {},
     "output_type": "execute_result"
    }
   ],
   "source": [
    "data.head()"
   ]
  },
  {
   "cell_type": "code",
   "execution_count": 4,
   "metadata": {},
   "outputs": [],
   "source": [
    "#Removing unwanted row aand column\n",
    "\n",
    "data=data.iloc[1:, 1:]"
   ]
  },
  {
   "cell_type": "code",
   "execution_count": 5,
   "metadata": {},
   "outputs": [
    {
     "data": {
      "text/html": [
       "<div>\n",
       "<style scoped>\n",
       "    .dataframe tbody tr th:only-of-type {\n",
       "        vertical-align: middle;\n",
       "    }\n",
       "\n",
       "    .dataframe tbody tr th {\n",
       "        vertical-align: top;\n",
       "    }\n",
       "\n",
       "    .dataframe thead th {\n",
       "        text-align: right;\n",
       "    }\n",
       "</style>\n",
       "<table border=\"1\" class=\"dataframe\">\n",
       "  <thead>\n",
       "    <tr style=\"text-align: right;\">\n",
       "      <th></th>\n",
       "      <th>X1</th>\n",
       "      <th>X2</th>\n",
       "      <th>X3</th>\n",
       "      <th>X4</th>\n",
       "      <th>X5</th>\n",
       "      <th>X6</th>\n",
       "      <th>X7</th>\n",
       "      <th>X8</th>\n",
       "      <th>X9</th>\n",
       "      <th>X10</th>\n",
       "      <th>...</th>\n",
       "      <th>X15</th>\n",
       "      <th>X16</th>\n",
       "      <th>X17</th>\n",
       "      <th>X18</th>\n",
       "      <th>X19</th>\n",
       "      <th>X20</th>\n",
       "      <th>X21</th>\n",
       "      <th>X22</th>\n",
       "      <th>X23</th>\n",
       "      <th>Y</th>\n",
       "    </tr>\n",
       "  </thead>\n",
       "  <tbody>\n",
       "    <tr>\n",
       "      <th>1</th>\n",
       "      <td>20000</td>\n",
       "      <td>2</td>\n",
       "      <td>2</td>\n",
       "      <td>1</td>\n",
       "      <td>24</td>\n",
       "      <td>2</td>\n",
       "      <td>2</td>\n",
       "      <td>-1</td>\n",
       "      <td>-1</td>\n",
       "      <td>-2</td>\n",
       "      <td>...</td>\n",
       "      <td>0</td>\n",
       "      <td>0</td>\n",
       "      <td>0</td>\n",
       "      <td>0</td>\n",
       "      <td>689</td>\n",
       "      <td>0</td>\n",
       "      <td>0</td>\n",
       "      <td>0</td>\n",
       "      <td>0</td>\n",
       "      <td>1</td>\n",
       "    </tr>\n",
       "    <tr>\n",
       "      <th>2</th>\n",
       "      <td>120000</td>\n",
       "      <td>2</td>\n",
       "      <td>2</td>\n",
       "      <td>2</td>\n",
       "      <td>26</td>\n",
       "      <td>-1</td>\n",
       "      <td>2</td>\n",
       "      <td>0</td>\n",
       "      <td>0</td>\n",
       "      <td>0</td>\n",
       "      <td>...</td>\n",
       "      <td>3272</td>\n",
       "      <td>3455</td>\n",
       "      <td>3261</td>\n",
       "      <td>0</td>\n",
       "      <td>1000</td>\n",
       "      <td>1000</td>\n",
       "      <td>1000</td>\n",
       "      <td>0</td>\n",
       "      <td>2000</td>\n",
       "      <td>1</td>\n",
       "    </tr>\n",
       "    <tr>\n",
       "      <th>3</th>\n",
       "      <td>90000</td>\n",
       "      <td>2</td>\n",
       "      <td>2</td>\n",
       "      <td>2</td>\n",
       "      <td>34</td>\n",
       "      <td>0</td>\n",
       "      <td>0</td>\n",
       "      <td>0</td>\n",
       "      <td>0</td>\n",
       "      <td>0</td>\n",
       "      <td>...</td>\n",
       "      <td>14331</td>\n",
       "      <td>14948</td>\n",
       "      <td>15549</td>\n",
       "      <td>1518</td>\n",
       "      <td>1500</td>\n",
       "      <td>1000</td>\n",
       "      <td>1000</td>\n",
       "      <td>1000</td>\n",
       "      <td>5000</td>\n",
       "      <td>0</td>\n",
       "    </tr>\n",
       "    <tr>\n",
       "      <th>4</th>\n",
       "      <td>50000</td>\n",
       "      <td>2</td>\n",
       "      <td>2</td>\n",
       "      <td>1</td>\n",
       "      <td>37</td>\n",
       "      <td>0</td>\n",
       "      <td>0</td>\n",
       "      <td>0</td>\n",
       "      <td>0</td>\n",
       "      <td>0</td>\n",
       "      <td>...</td>\n",
       "      <td>28314</td>\n",
       "      <td>28959</td>\n",
       "      <td>29547</td>\n",
       "      <td>2000</td>\n",
       "      <td>2019</td>\n",
       "      <td>1200</td>\n",
       "      <td>1100</td>\n",
       "      <td>1069</td>\n",
       "      <td>1000</td>\n",
       "      <td>0</td>\n",
       "    </tr>\n",
       "    <tr>\n",
       "      <th>5</th>\n",
       "      <td>50000</td>\n",
       "      <td>1</td>\n",
       "      <td>2</td>\n",
       "      <td>1</td>\n",
       "      <td>57</td>\n",
       "      <td>-1</td>\n",
       "      <td>0</td>\n",
       "      <td>-1</td>\n",
       "      <td>0</td>\n",
       "      <td>0</td>\n",
       "      <td>...</td>\n",
       "      <td>20940</td>\n",
       "      <td>19146</td>\n",
       "      <td>19131</td>\n",
       "      <td>2000</td>\n",
       "      <td>36681</td>\n",
       "      <td>10000</td>\n",
       "      <td>9000</td>\n",
       "      <td>689</td>\n",
       "      <td>679</td>\n",
       "      <td>0</td>\n",
       "    </tr>\n",
       "  </tbody>\n",
       "</table>\n",
       "<p>5 rows × 24 columns</p>\n",
       "</div>"
      ],
      "text/plain": [
       "       X1 X2 X3 X4  X5  X6 X7  X8  X9 X10 ...    X15    X16    X17   X18  \\\n",
       "1   20000  2  2  1  24   2  2  -1  -1  -2 ...      0      0      0     0   \n",
       "2  120000  2  2  2  26  -1  2   0   0   0 ...   3272   3455   3261     0   \n",
       "3   90000  2  2  2  34   0  0   0   0   0 ...  14331  14948  15549  1518   \n",
       "4   50000  2  2  1  37   0  0   0   0   0 ...  28314  28959  29547  2000   \n",
       "5   50000  1  2  1  57  -1  0  -1   0   0 ...  20940  19146  19131  2000   \n",
       "\n",
       "     X19    X20   X21   X22   X23  Y  \n",
       "1    689      0     0     0     0  1  \n",
       "2   1000   1000  1000     0  2000  1  \n",
       "3   1500   1000  1000  1000  5000  0  \n",
       "4   2019   1200  1100  1069  1000  0  \n",
       "5  36681  10000  9000   689   679  0  \n",
       "\n",
       "[5 rows x 24 columns]"
      ]
     },
     "execution_count": 5,
     "metadata": {},
     "output_type": "execute_result"
    }
   ],
   "source": [
    "data.head()"
   ]
  },
  {
   "cell_type": "code",
   "execution_count": 6,
   "metadata": {},
   "outputs": [
    {
     "data": {
      "text/plain": [
       "(30000, 24)"
      ]
     },
     "execution_count": 6,
     "metadata": {},
     "output_type": "execute_result"
    }
   ],
   "source": [
    "data.shape"
   ]
  },
  {
   "cell_type": "code",
   "execution_count": 7,
   "metadata": {},
   "outputs": [
    {
     "name": "stdout",
     "output_type": "stream",
     "text": [
      "<class 'pandas.core.frame.DataFrame'>\n",
      "RangeIndex: 30000 entries, 1 to 30000\n",
      "Data columns (total 24 columns):\n",
      "X1     22999 non-null object\n",
      "X2     22999 non-null object\n",
      "X3     22999 non-null object\n",
      "X4     22999 non-null object\n",
      "X5     22999 non-null object\n",
      "X6     22999 non-null object\n",
      "X7     22999 non-null object\n",
      "X8     22999 non-null object\n",
      "X9     22999 non-null object\n",
      "X10    22999 non-null object\n",
      "X11    22999 non-null object\n",
      "X12    22999 non-null object\n",
      "X13    22999 non-null object\n",
      "X14    22999 non-null object\n",
      "X15    22999 non-null object\n",
      "X16    22999 non-null object\n",
      "X17    22999 non-null object\n",
      "X18    22999 non-null object\n",
      "X19    22999 non-null object\n",
      "X20    22999 non-null object\n",
      "X21    22999 non-null object\n",
      "X22    22999 non-null object\n",
      "X23    22999 non-null object\n",
      "Y      22999 non-null object\n",
      "dtypes: object(24)\n",
      "memory usage: 5.5+ MB\n"
     ]
    }
   ],
   "source": [
    "#informatin about data\n",
    "data.info()"
   ]
  },
  {
   "cell_type": "code",
   "execution_count": 8,
   "metadata": {},
   "outputs": [
    {
     "name": "stderr",
     "output_type": "stream",
     "text": [
      "/home/nishan/python-environments/env/lib/python3.5/site-packages/ipykernel_launcher.py:2: FutureWarning: convert_objects is deprecated.  To re-infer data dtypes for object columns, use DataFrame.infer_objects()\n",
      "For all other conversions use the data-type specific converters pd.to_datetime, pd.to_timedelta and pd.to_numeric.\n",
      "  \n"
     ]
    },
    {
     "data": {
      "text/plain": [
       "X1     float64\n",
       "X2     float64\n",
       "X3     float64\n",
       "X4     float64\n",
       "X5     float64\n",
       "X6     float64\n",
       "X7     float64\n",
       "X8     float64\n",
       "X9     float64\n",
       "X10    float64\n",
       "X11    float64\n",
       "X12    float64\n",
       "X13    float64\n",
       "X14    float64\n",
       "X15    float64\n",
       "X16    float64\n",
       "X17    float64\n",
       "X18    float64\n",
       "X19    float64\n",
       "X20    float64\n",
       "X21    float64\n",
       "X22    float64\n",
       "X23    float64\n",
       "Y      float64\n",
       "dtype: object"
      ]
     },
     "execution_count": 8,
     "metadata": {},
     "output_type": "execute_result"
    }
   ],
   "source": [
    "#converting all data into numeric format from object format\n",
    "df = data[:-1].convert_objects(convert_numeric=True)\n",
    "df.dtypes"
   ]
  },
  {
   "cell_type": "code",
   "execution_count": 9,
   "metadata": {},
   "outputs": [
    {
     "data": {
      "text/html": [
       "<div>\n",
       "<style scoped>\n",
       "    .dataframe tbody tr th:only-of-type {\n",
       "        vertical-align: middle;\n",
       "    }\n",
       "\n",
       "    .dataframe tbody tr th {\n",
       "        vertical-align: top;\n",
       "    }\n",
       "\n",
       "    .dataframe thead th {\n",
       "        text-align: right;\n",
       "    }\n",
       "</style>\n",
       "<table border=\"1\" class=\"dataframe\">\n",
       "  <thead>\n",
       "    <tr style=\"text-align: right;\">\n",
       "      <th></th>\n",
       "      <th>X1</th>\n",
       "      <th>X2</th>\n",
       "      <th>X3</th>\n",
       "      <th>X4</th>\n",
       "      <th>X5</th>\n",
       "      <th>X6</th>\n",
       "      <th>X7</th>\n",
       "      <th>X8</th>\n",
       "      <th>X9</th>\n",
       "      <th>X10</th>\n",
       "      <th>...</th>\n",
       "      <th>X15</th>\n",
       "      <th>X16</th>\n",
       "      <th>X17</th>\n",
       "      <th>X18</th>\n",
       "      <th>X19</th>\n",
       "      <th>X20</th>\n",
       "      <th>X21</th>\n",
       "      <th>X22</th>\n",
       "      <th>X23</th>\n",
       "      <th>Y</th>\n",
       "    </tr>\n",
       "  </thead>\n",
       "  <tbody>\n",
       "    <tr>\n",
       "      <th>count</th>\n",
       "      <td>22999.000000</td>\n",
       "      <td>22999.000000</td>\n",
       "      <td>22999.000000</td>\n",
       "      <td>22999.000000</td>\n",
       "      <td>22999.000000</td>\n",
       "      <td>22999.000000</td>\n",
       "      <td>22999.000000</td>\n",
       "      <td>22999.000000</td>\n",
       "      <td>22999.000000</td>\n",
       "      <td>22999.000000</td>\n",
       "      <td>...</td>\n",
       "      <td>22999.000000</td>\n",
       "      <td>22999.000000</td>\n",
       "      <td>22999.000000</td>\n",
       "      <td>22999.000000</td>\n",
       "      <td>2.299900e+04</td>\n",
       "      <td>22999.000000</td>\n",
       "      <td>22999.000000</td>\n",
       "      <td>22999.000000</td>\n",
       "      <td>22999.000000</td>\n",
       "      <td>22999.000000</td>\n",
       "    </tr>\n",
       "    <tr>\n",
       "      <th>mean</th>\n",
       "      <td>164486.442019</td>\n",
       "      <td>1.618418</td>\n",
       "      <td>1.843080</td>\n",
       "      <td>1.561198</td>\n",
       "      <td>35.248446</td>\n",
       "      <td>0.007696</td>\n",
       "      <td>-0.113744</td>\n",
       "      <td>-0.143528</td>\n",
       "      <td>-0.203139</td>\n",
       "      <td>-0.243402</td>\n",
       "      <td>...</td>\n",
       "      <td>42180.597765</td>\n",
       "      <td>39854.574547</td>\n",
       "      <td>38427.959433</td>\n",
       "      <td>5507.591852</td>\n",
       "      <td>5.790085e+03</td>\n",
       "      <td>4891.841602</td>\n",
       "      <td>4720.562720</td>\n",
       "      <td>4737.796209</td>\n",
       "      <td>5146.767512</td>\n",
       "      <td>0.224923</td>\n",
       "    </tr>\n",
       "    <tr>\n",
       "      <th>std</th>\n",
       "      <td>128760.864245</td>\n",
       "      <td>0.485785</td>\n",
       "      <td>0.777171</td>\n",
       "      <td>0.521793</td>\n",
       "      <td>9.246032</td>\n",
       "      <td>1.120212</td>\n",
       "      <td>1.196649</td>\n",
       "      <td>1.201776</td>\n",
       "      <td>1.164131</td>\n",
       "      <td>1.136586</td>\n",
       "      <td>...</td>\n",
       "      <td>62589.126162</td>\n",
       "      <td>59845.421243</td>\n",
       "      <td>58843.957229</td>\n",
       "      <td>15002.955947</td>\n",
       "      <td>2.096497e+04</td>\n",
       "      <td>15884.013642</td>\n",
       "      <td>14834.198152</td>\n",
       "      <td>15168.979300</td>\n",
       "      <td>17632.322124</td>\n",
       "      <td>0.417541</td>\n",
       "    </tr>\n",
       "    <tr>\n",
       "      <th>min</th>\n",
       "      <td>10000.000000</td>\n",
       "      <td>1.000000</td>\n",
       "      <td>0.000000</td>\n",
       "      <td>0.000000</td>\n",
       "      <td>21.000000</td>\n",
       "      <td>-2.000000</td>\n",
       "      <td>-2.000000</td>\n",
       "      <td>-2.000000</td>\n",
       "      <td>-2.000000</td>\n",
       "      <td>-2.000000</td>\n",
       "      <td>...</td>\n",
       "      <td>-170000.000000</td>\n",
       "      <td>-46627.000000</td>\n",
       "      <td>-339603.000000</td>\n",
       "      <td>0.000000</td>\n",
       "      <td>0.000000e+00</td>\n",
       "      <td>0.000000</td>\n",
       "      <td>0.000000</td>\n",
       "      <td>0.000000</td>\n",
       "      <td>0.000000</td>\n",
       "      <td>0.000000</td>\n",
       "    </tr>\n",
       "    <tr>\n",
       "      <th>25%</th>\n",
       "      <td>50000.000000</td>\n",
       "      <td>1.000000</td>\n",
       "      <td>1.000000</td>\n",
       "      <td>1.000000</td>\n",
       "      <td>28.000000</td>\n",
       "      <td>-1.000000</td>\n",
       "      <td>-1.000000</td>\n",
       "      <td>-1.000000</td>\n",
       "      <td>-1.000000</td>\n",
       "      <td>-1.000000</td>\n",
       "      <td>...</td>\n",
       "      <td>2386.500000</td>\n",
       "      <td>1772.500000</td>\n",
       "      <td>1243.500000</td>\n",
       "      <td>1000.000000</td>\n",
       "      <td>8.000000e+02</td>\n",
       "      <td>375.500000</td>\n",
       "      <td>276.000000</td>\n",
       "      <td>251.000000</td>\n",
       "      <td>66.000000</td>\n",
       "      <td>0.000000</td>\n",
       "    </tr>\n",
       "    <tr>\n",
       "      <th>50%</th>\n",
       "      <td>140000.000000</td>\n",
       "      <td>2.000000</td>\n",
       "      <td>2.000000</td>\n",
       "      <td>2.000000</td>\n",
       "      <td>34.000000</td>\n",
       "      <td>0.000000</td>\n",
       "      <td>0.000000</td>\n",
       "      <td>0.000000</td>\n",
       "      <td>0.000000</td>\n",
       "      <td>0.000000</td>\n",
       "      <td>...</td>\n",
       "      <td>19000.000000</td>\n",
       "      <td>18229.000000</td>\n",
       "      <td>17126.000000</td>\n",
       "      <td>2100.000000</td>\n",
       "      <td>2.000000e+03</td>\n",
       "      <td>1700.000000</td>\n",
       "      <td>1500.000000</td>\n",
       "      <td>1500.000000</td>\n",
       "      <td>1495.000000</td>\n",
       "      <td>0.000000</td>\n",
       "    </tr>\n",
       "    <tr>\n",
       "      <th>75%</th>\n",
       "      <td>230000.000000</td>\n",
       "      <td>2.000000</td>\n",
       "      <td>2.000000</td>\n",
       "      <td>2.000000</td>\n",
       "      <td>41.000000</td>\n",
       "      <td>0.000000</td>\n",
       "      <td>0.000000</td>\n",
       "      <td>0.000000</td>\n",
       "      <td>0.000000</td>\n",
       "      <td>0.000000</td>\n",
       "      <td>...</td>\n",
       "      <td>51902.000000</td>\n",
       "      <td>49702.500000</td>\n",
       "      <td>48757.000000</td>\n",
       "      <td>5000.000000</td>\n",
       "      <td>5.000000e+03</td>\n",
       "      <td>4243.500000</td>\n",
       "      <td>4000.000000</td>\n",
       "      <td>4000.000000</td>\n",
       "      <td>4000.000000</td>\n",
       "      <td>0.000000</td>\n",
       "    </tr>\n",
       "    <tr>\n",
       "      <th>max</th>\n",
       "      <td>1000000.000000</td>\n",
       "      <td>2.000000</td>\n",
       "      <td>6.000000</td>\n",
       "      <td>3.000000</td>\n",
       "      <td>79.000000</td>\n",
       "      <td>8.000000</td>\n",
       "      <td>8.000000</td>\n",
       "      <td>8.000000</td>\n",
       "      <td>8.000000</td>\n",
       "      <td>8.000000</td>\n",
       "      <td>...</td>\n",
       "      <td>891586.000000</td>\n",
       "      <td>927171.000000</td>\n",
       "      <td>961664.000000</td>\n",
       "      <td>505000.000000</td>\n",
       "      <td>1.684259e+06</td>\n",
       "      <td>896040.000000</td>\n",
       "      <td>497000.000000</td>\n",
       "      <td>417990.000000</td>\n",
       "      <td>528666.000000</td>\n",
       "      <td>1.000000</td>\n",
       "    </tr>\n",
       "  </tbody>\n",
       "</table>\n",
       "<p>8 rows × 24 columns</p>\n",
       "</div>"
      ],
      "text/plain": [
       "                   X1            X2            X3            X4            X5  \\\n",
       "count    22999.000000  22999.000000  22999.000000  22999.000000  22999.000000   \n",
       "mean    164486.442019      1.618418      1.843080      1.561198     35.248446   \n",
       "std     128760.864245      0.485785      0.777171      0.521793      9.246032   \n",
       "min      10000.000000      1.000000      0.000000      0.000000     21.000000   \n",
       "25%      50000.000000      1.000000      1.000000      1.000000     28.000000   \n",
       "50%     140000.000000      2.000000      2.000000      2.000000     34.000000   \n",
       "75%     230000.000000      2.000000      2.000000      2.000000     41.000000   \n",
       "max    1000000.000000      2.000000      6.000000      3.000000     79.000000   \n",
       "\n",
       "                 X6            X7            X8            X9           X10  \\\n",
       "count  22999.000000  22999.000000  22999.000000  22999.000000  22999.000000   \n",
       "mean       0.007696     -0.113744     -0.143528     -0.203139     -0.243402   \n",
       "std        1.120212      1.196649      1.201776      1.164131      1.136586   \n",
       "min       -2.000000     -2.000000     -2.000000     -2.000000     -2.000000   \n",
       "25%       -1.000000     -1.000000     -1.000000     -1.000000     -1.000000   \n",
       "50%        0.000000      0.000000      0.000000      0.000000      0.000000   \n",
       "75%        0.000000      0.000000      0.000000      0.000000      0.000000   \n",
       "max        8.000000      8.000000      8.000000      8.000000      8.000000   \n",
       "\n",
       "           ...                 X15            X16            X17  \\\n",
       "count      ...        22999.000000   22999.000000   22999.000000   \n",
       "mean       ...        42180.597765   39854.574547   38427.959433   \n",
       "std        ...        62589.126162   59845.421243   58843.957229   \n",
       "min        ...      -170000.000000  -46627.000000 -339603.000000   \n",
       "25%        ...         2386.500000    1772.500000    1243.500000   \n",
       "50%        ...        19000.000000   18229.000000   17126.000000   \n",
       "75%        ...        51902.000000   49702.500000   48757.000000   \n",
       "max        ...       891586.000000  927171.000000  961664.000000   \n",
       "\n",
       "                 X18           X19            X20            X21  \\\n",
       "count   22999.000000  2.299900e+04   22999.000000   22999.000000   \n",
       "mean     5507.591852  5.790085e+03    4891.841602    4720.562720   \n",
       "std     15002.955947  2.096497e+04   15884.013642   14834.198152   \n",
       "min         0.000000  0.000000e+00       0.000000       0.000000   \n",
       "25%      1000.000000  8.000000e+02     375.500000     276.000000   \n",
       "50%      2100.000000  2.000000e+03    1700.000000    1500.000000   \n",
       "75%      5000.000000  5.000000e+03    4243.500000    4000.000000   \n",
       "max    505000.000000  1.684259e+06  896040.000000  497000.000000   \n",
       "\n",
       "                 X22            X23             Y  \n",
       "count   22999.000000   22999.000000  22999.000000  \n",
       "mean     4737.796209    5146.767512      0.224923  \n",
       "std     15168.979300   17632.322124      0.417541  \n",
       "min         0.000000       0.000000      0.000000  \n",
       "25%       251.000000      66.000000      0.000000  \n",
       "50%      1500.000000    1495.000000      0.000000  \n",
       "75%      4000.000000    4000.000000      0.000000  \n",
       "max    417990.000000  528666.000000      1.000000  \n",
       "\n",
       "[8 rows x 24 columns]"
      ]
     },
     "execution_count": 9,
     "metadata": {},
     "output_type": "execute_result"
    }
   ],
   "source": [
    "df.describe()"
   ]
  },
  {
   "cell_type": "code",
   "execution_count": 10,
   "metadata": {},
   "outputs": [
    {
     "data": {
      "text/plain": [
       "X1     True\n",
       "X2     True\n",
       "X3     True\n",
       "X4     True\n",
       "X5     True\n",
       "X6     True\n",
       "X7     True\n",
       "X8     True\n",
       "X9     True\n",
       "X10    True\n",
       "X11    True\n",
       "X12    True\n",
       "X13    True\n",
       "X14    True\n",
       "X15    True\n",
       "X16    True\n",
       "X17    True\n",
       "X18    True\n",
       "X19    True\n",
       "X20    True\n",
       "X21    True\n",
       "X22    True\n",
       "X23    True\n",
       "Y      True\n",
       "dtype: bool"
      ]
     },
     "execution_count": 10,
     "metadata": {},
     "output_type": "execute_result"
    }
   ],
   "source": [
    "#checking for null values\n",
    "data.isnull().any()"
   ]
  },
  {
   "cell_type": "code",
   "execution_count": 11,
   "metadata": {},
   "outputs": [],
   "source": [
    "#Dropping null values\n",
    "data = data.dropna(how='any',axis=0) "
   ]
  },
  {
   "cell_type": "code",
   "execution_count": 12,
   "metadata": {},
   "outputs": [
    {
     "data": {
      "text/plain": [
       "X1     False\n",
       "X2     False\n",
       "X3     False\n",
       "X4     False\n",
       "X5     False\n",
       "X6     False\n",
       "X7     False\n",
       "X8     False\n",
       "X9     False\n",
       "X10    False\n",
       "X11    False\n",
       "X12    False\n",
       "X13    False\n",
       "X14    False\n",
       "X15    False\n",
       "X16    False\n",
       "X17    False\n",
       "X18    False\n",
       "X19    False\n",
       "X20    False\n",
       "X21    False\n",
       "X22    False\n",
       "X23    False\n",
       "Y      False\n",
       "dtype: bool"
      ]
     },
     "execution_count": 12,
     "metadata": {},
     "output_type": "execute_result"
    }
   ],
   "source": [
    "#check for null values\n",
    "data.isnull().any()"
   ]
  },
  {
   "cell_type": "markdown",
   "metadata": {},
   "source": [
    "# Normalization of data"
   ]
  },
  {
   "cell_type": "code",
   "execution_count": 13,
   "metadata": {},
   "outputs": [
    {
     "name": "stderr",
     "output_type": "stream",
     "text": [
      "/home/nishan/python-environments/env/lib/python3.5/site-packages/sklearn/utils/validation.py:595: DataConversionWarning: Data with input dtype object was converted to float64 by MinMaxScaler.\n",
      "  warnings.warn(msg, DataConversionWarning)\n"
     ]
    }
   ],
   "source": [
    "from sklearn import preprocessing\n",
    "names = data.columns\n",
    "x = data.values #returns a numpy array\n",
    "min_max_scaler = preprocessing.MinMaxScaler()\n",
    "x_scaled = min_max_scaler.fit_transform(x)\n",
    "df = pd.DataFrame(x_scaled,columns=names)\n"
   ]
  },
  {
   "cell_type": "code",
   "execution_count": 14,
   "metadata": {},
   "outputs": [
    {
     "data": {
      "text/html": [
       "<div>\n",
       "<style scoped>\n",
       "    .dataframe tbody tr th:only-of-type {\n",
       "        vertical-align: middle;\n",
       "    }\n",
       "\n",
       "    .dataframe tbody tr th {\n",
       "        vertical-align: top;\n",
       "    }\n",
       "\n",
       "    .dataframe thead th {\n",
       "        text-align: right;\n",
       "    }\n",
       "</style>\n",
       "<table border=\"1\" class=\"dataframe\">\n",
       "  <thead>\n",
       "    <tr style=\"text-align: right;\">\n",
       "      <th></th>\n",
       "      <th>X1</th>\n",
       "      <th>X2</th>\n",
       "      <th>X3</th>\n",
       "      <th>X4</th>\n",
       "      <th>X5</th>\n",
       "      <th>X6</th>\n",
       "      <th>X7</th>\n",
       "      <th>X8</th>\n",
       "      <th>X9</th>\n",
       "      <th>X10</th>\n",
       "      <th>...</th>\n",
       "      <th>X15</th>\n",
       "      <th>X16</th>\n",
       "      <th>X17</th>\n",
       "      <th>X18</th>\n",
       "      <th>X19</th>\n",
       "      <th>X20</th>\n",
       "      <th>X21</th>\n",
       "      <th>X22</th>\n",
       "      <th>X23</th>\n",
       "      <th>Y</th>\n",
       "    </tr>\n",
       "  </thead>\n",
       "  <tbody>\n",
       "    <tr>\n",
       "      <th>count</th>\n",
       "      <td>22999.000000</td>\n",
       "      <td>22999.000000</td>\n",
       "      <td>22999.000000</td>\n",
       "      <td>22999.000000</td>\n",
       "      <td>22999.000000</td>\n",
       "      <td>22999.000000</td>\n",
       "      <td>22999.000000</td>\n",
       "      <td>22999.000000</td>\n",
       "      <td>22999.000000</td>\n",
       "      <td>22999.000000</td>\n",
       "      <td>...</td>\n",
       "      <td>22999.000000</td>\n",
       "      <td>22999.000000</td>\n",
       "      <td>22999.000000</td>\n",
       "      <td>22999.000000</td>\n",
       "      <td>22999.000000</td>\n",
       "      <td>22999.000000</td>\n",
       "      <td>22999.000000</td>\n",
       "      <td>22999.000000</td>\n",
       "      <td>22999.000000</td>\n",
       "      <td>22999.000000</td>\n",
       "    </tr>\n",
       "    <tr>\n",
       "      <th>mean</th>\n",
       "      <td>0.156047</td>\n",
       "      <td>0.618418</td>\n",
       "      <td>0.307180</td>\n",
       "      <td>0.520399</td>\n",
       "      <td>0.245663</td>\n",
       "      <td>0.200770</td>\n",
       "      <td>0.188626</td>\n",
       "      <td>0.185647</td>\n",
       "      <td>0.179686</td>\n",
       "      <td>0.175660</td>\n",
       "      <td>...</td>\n",
       "      <td>0.199871</td>\n",
       "      <td>0.088809</td>\n",
       "      <td>0.290510</td>\n",
       "      <td>0.010906</td>\n",
       "      <td>0.003438</td>\n",
       "      <td>0.005459</td>\n",
       "      <td>0.009498</td>\n",
       "      <td>0.011335</td>\n",
       "      <td>0.009735</td>\n",
       "      <td>0.224923</td>\n",
       "    </tr>\n",
       "    <tr>\n",
       "      <th>std</th>\n",
       "      <td>0.130061</td>\n",
       "      <td>0.485785</td>\n",
       "      <td>0.129529</td>\n",
       "      <td>0.173931</td>\n",
       "      <td>0.159414</td>\n",
       "      <td>0.112021</td>\n",
       "      <td>0.119665</td>\n",
       "      <td>0.120178</td>\n",
       "      <td>0.116413</td>\n",
       "      <td>0.113659</td>\n",
       "      <td>...</td>\n",
       "      <td>0.058958</td>\n",
       "      <td>0.061456</td>\n",
       "      <td>0.045221</td>\n",
       "      <td>0.029709</td>\n",
       "      <td>0.012448</td>\n",
       "      <td>0.017727</td>\n",
       "      <td>0.029847</td>\n",
       "      <td>0.036290</td>\n",
       "      <td>0.033352</td>\n",
       "      <td>0.417541</td>\n",
       "    </tr>\n",
       "    <tr>\n",
       "      <th>min</th>\n",
       "      <td>0.000000</td>\n",
       "      <td>0.000000</td>\n",
       "      <td>0.000000</td>\n",
       "      <td>0.000000</td>\n",
       "      <td>0.000000</td>\n",
       "      <td>0.000000</td>\n",
       "      <td>0.000000</td>\n",
       "      <td>0.000000</td>\n",
       "      <td>0.000000</td>\n",
       "      <td>0.000000</td>\n",
       "      <td>...</td>\n",
       "      <td>0.000000</td>\n",
       "      <td>0.000000</td>\n",
       "      <td>0.000000</td>\n",
       "      <td>0.000000</td>\n",
       "      <td>0.000000</td>\n",
       "      <td>0.000000</td>\n",
       "      <td>0.000000</td>\n",
       "      <td>0.000000</td>\n",
       "      <td>0.000000</td>\n",
       "      <td>0.000000</td>\n",
       "    </tr>\n",
       "    <tr>\n",
       "      <th>25%</th>\n",
       "      <td>0.040404</td>\n",
       "      <td>0.000000</td>\n",
       "      <td>0.166667</td>\n",
       "      <td>0.333333</td>\n",
       "      <td>0.120690</td>\n",
       "      <td>0.100000</td>\n",
       "      <td>0.100000</td>\n",
       "      <td>0.100000</td>\n",
       "      <td>0.100000</td>\n",
       "      <td>0.100000</td>\n",
       "      <td>...</td>\n",
       "      <td>0.162386</td>\n",
       "      <td>0.049702</td>\n",
       "      <td>0.261934</td>\n",
       "      <td>0.001980</td>\n",
       "      <td>0.000475</td>\n",
       "      <td>0.000419</td>\n",
       "      <td>0.000555</td>\n",
       "      <td>0.000600</td>\n",
       "      <td>0.000125</td>\n",
       "      <td>0.000000</td>\n",
       "    </tr>\n",
       "    <tr>\n",
       "      <th>50%</th>\n",
       "      <td>0.131313</td>\n",
       "      <td>1.000000</td>\n",
       "      <td>0.333333</td>\n",
       "      <td>0.666667</td>\n",
       "      <td>0.224138</td>\n",
       "      <td>0.200000</td>\n",
       "      <td>0.200000</td>\n",
       "      <td>0.200000</td>\n",
       "      <td>0.200000</td>\n",
       "      <td>0.200000</td>\n",
       "      <td>...</td>\n",
       "      <td>0.178036</td>\n",
       "      <td>0.066601</td>\n",
       "      <td>0.274140</td>\n",
       "      <td>0.004158</td>\n",
       "      <td>0.001187</td>\n",
       "      <td>0.001897</td>\n",
       "      <td>0.003018</td>\n",
       "      <td>0.003589</td>\n",
       "      <td>0.002828</td>\n",
       "      <td>0.000000</td>\n",
       "    </tr>\n",
       "    <tr>\n",
       "      <th>75%</th>\n",
       "      <td>0.222222</td>\n",
       "      <td>1.000000</td>\n",
       "      <td>0.333333</td>\n",
       "      <td>0.666667</td>\n",
       "      <td>0.344828</td>\n",
       "      <td>0.200000</td>\n",
       "      <td>0.200000</td>\n",
       "      <td>0.200000</td>\n",
       "      <td>0.200000</td>\n",
       "      <td>0.200000</td>\n",
       "      <td>...</td>\n",
       "      <td>0.209029</td>\n",
       "      <td>0.098921</td>\n",
       "      <td>0.298448</td>\n",
       "      <td>0.009901</td>\n",
       "      <td>0.002969</td>\n",
       "      <td>0.004736</td>\n",
       "      <td>0.008048</td>\n",
       "      <td>0.009570</td>\n",
       "      <td>0.007566</td>\n",
       "      <td>0.000000</td>\n",
       "    </tr>\n",
       "    <tr>\n",
       "      <th>max</th>\n",
       "      <td>1.000000</td>\n",
       "      <td>1.000000</td>\n",
       "      <td>1.000000</td>\n",
       "      <td>1.000000</td>\n",
       "      <td>1.000000</td>\n",
       "      <td>1.000000</td>\n",
       "      <td>1.000000</td>\n",
       "      <td>1.000000</td>\n",
       "      <td>1.000000</td>\n",
       "      <td>1.000000</td>\n",
       "      <td>...</td>\n",
       "      <td>1.000000</td>\n",
       "      <td>1.000000</td>\n",
       "      <td>1.000000</td>\n",
       "      <td>1.000000</td>\n",
       "      <td>1.000000</td>\n",
       "      <td>1.000000</td>\n",
       "      <td>1.000000</td>\n",
       "      <td>1.000000</td>\n",
       "      <td>1.000000</td>\n",
       "      <td>1.000000</td>\n",
       "    </tr>\n",
       "  </tbody>\n",
       "</table>\n",
       "<p>8 rows × 24 columns</p>\n",
       "</div>"
      ],
      "text/plain": [
       "                 X1            X2            X3            X4            X5  \\\n",
       "count  22999.000000  22999.000000  22999.000000  22999.000000  22999.000000   \n",
       "mean       0.156047      0.618418      0.307180      0.520399      0.245663   \n",
       "std        0.130061      0.485785      0.129529      0.173931      0.159414   \n",
       "min        0.000000      0.000000      0.000000      0.000000      0.000000   \n",
       "25%        0.040404      0.000000      0.166667      0.333333      0.120690   \n",
       "50%        0.131313      1.000000      0.333333      0.666667      0.224138   \n",
       "75%        0.222222      1.000000      0.333333      0.666667      0.344828   \n",
       "max        1.000000      1.000000      1.000000      1.000000      1.000000   \n",
       "\n",
       "                 X6            X7            X8            X9           X10  \\\n",
       "count  22999.000000  22999.000000  22999.000000  22999.000000  22999.000000   \n",
       "mean       0.200770      0.188626      0.185647      0.179686      0.175660   \n",
       "std        0.112021      0.119665      0.120178      0.116413      0.113659   \n",
       "min        0.000000      0.000000      0.000000      0.000000      0.000000   \n",
       "25%        0.100000      0.100000      0.100000      0.100000      0.100000   \n",
       "50%        0.200000      0.200000      0.200000      0.200000      0.200000   \n",
       "75%        0.200000      0.200000      0.200000      0.200000      0.200000   \n",
       "max        1.000000      1.000000      1.000000      1.000000      1.000000   \n",
       "\n",
       "           ...                X15           X16           X17           X18  \\\n",
       "count      ...       22999.000000  22999.000000  22999.000000  22999.000000   \n",
       "mean       ...           0.199871      0.088809      0.290510      0.010906   \n",
       "std        ...           0.058958      0.061456      0.045221      0.029709   \n",
       "min        ...           0.000000      0.000000      0.000000      0.000000   \n",
       "25%        ...           0.162386      0.049702      0.261934      0.001980   \n",
       "50%        ...           0.178036      0.066601      0.274140      0.004158   \n",
       "75%        ...           0.209029      0.098921      0.298448      0.009901   \n",
       "max        ...           1.000000      1.000000      1.000000      1.000000   \n",
       "\n",
       "                X19           X20           X21           X22           X23  \\\n",
       "count  22999.000000  22999.000000  22999.000000  22999.000000  22999.000000   \n",
       "mean       0.003438      0.005459      0.009498      0.011335      0.009735   \n",
       "std        0.012448      0.017727      0.029847      0.036290      0.033352   \n",
       "min        0.000000      0.000000      0.000000      0.000000      0.000000   \n",
       "25%        0.000475      0.000419      0.000555      0.000600      0.000125   \n",
       "50%        0.001187      0.001897      0.003018      0.003589      0.002828   \n",
       "75%        0.002969      0.004736      0.008048      0.009570      0.007566   \n",
       "max        1.000000      1.000000      1.000000      1.000000      1.000000   \n",
       "\n",
       "                  Y  \n",
       "count  22999.000000  \n",
       "mean       0.224923  \n",
       "std        0.417541  \n",
       "min        0.000000  \n",
       "25%        0.000000  \n",
       "50%        0.000000  \n",
       "75%        0.000000  \n",
       "max        1.000000  \n",
       "\n",
       "[8 rows x 24 columns]"
      ]
     },
     "execution_count": 14,
     "metadata": {},
     "output_type": "execute_result"
    }
   ],
   "source": [
    "df.describe()"
   ]
  },
  {
   "cell_type": "code",
   "execution_count": 15,
   "metadata": {},
   "outputs": [
    {
     "data": {
      "text/plain": [
       "0.0    17826\n",
       "1.0     5173\n",
       "Name: Y, dtype: int64"
      ]
     },
     "execution_count": 15,
     "metadata": {},
     "output_type": "execute_result"
    }
   ],
   "source": [
    "#counting number of positive and negative examples\n",
    "df['Y'].value_counts()"
   ]
  },
  {
   "cell_type": "markdown",
   "metadata": {},
   "source": [
    "# Preparation of data for training and testing"
   ]
  },
  {
   "cell_type": "code",
   "execution_count": 17,
   "metadata": {},
   "outputs": [],
   "source": [
    "X = df.loc[:, df.columns != \"Y\"].values\n",
    "y = df.loc[:, df.columns == \"Y\"].values.flatten()"
   ]
  },
  {
   "cell_type": "code",
   "execution_count": 18,
   "metadata": {},
   "outputs": [],
   "source": [
    "from sklearn.model_selection import train_test_split\n",
    "X_train, X_test, y_train, y_test = train_test_split(X, y, test_size=0.2, shuffle=True, random_state=123, stratify=y)"
   ]
  },
  {
   "cell_type": "markdown",
   "metadata": {},
   "source": [
    "# Seeing if there are any irrevelant features(feature importance)"
   ]
  },
  {
   "cell_type": "code",
   "execution_count": 20,
   "metadata": {},
   "outputs": [
    {
     "name": "stderr",
     "output_type": "stream",
     "text": [
      "/home/nishan/python-environments/env/lib/python3.5/site-packages/sklearn/ensemble/forest.py:246: FutureWarning: The default value of n_estimators will change from 10 in version 0.20 to 100 in 0.22.\n",
      "  \"10 in version 0.20 to 100 in 0.22.\", FutureWarning)\n"
     ]
    },
    {
     "name": "stdout",
     "output_type": "stream",
     "text": [
      "[0.06087061 0.01557016 0.03419016 0.02294851 0.06453934 0.11253146\n",
      " 0.0462989  0.02948034 0.02212115 0.03171401 0.02622663 0.04909813\n",
      " 0.0452576  0.04523431 0.0435681  0.0431629  0.04306283 0.04515887\n",
      " 0.04500962 0.04206731 0.04198472 0.04267086 0.04723348]\n"
     ]
    },
    {
     "data": {
      "image/png": "[encoded data removed]",
      "text/plain": [
       "<Figure size 432x288 with 1 Axes>"
      ]
     },
     "metadata": {
      "needs_background": "light"
     },
     "output_type": "display_data"
    }
   ],
   "source": [
    "from sklearn.ensemble import ExtraTreesClassifier\n",
    "import matplotlib.pyplot as plt\n",
    "model = ExtraTreesClassifier()\n",
    "model.fit(X_train,y_train)\n",
    "print(model.feature_importances_) #use inbuilt class feature_importances of tree based classifiers\n",
    "#plot graph of feature importances for better visualization\n",
    "feat_importances = pd.Series(model.feature_importances_)\n",
    "feat_importances.nlargest(23).plot(kind='barh')\n",
    "plt.show()"
   ]
  },
  {
   "cell_type": "markdown",
   "metadata": {},
   "source": [
    "# Training using various machine learning models"
   ]
  },
  {
   "cell_type": "markdown",
   "metadata": {},
   "source": [
    "## 1.Logistic regression"
   ]
  },
  {
   "cell_type": "code",
   "execution_count": 21,
   "metadata": {},
   "outputs": [
    {
     "name": "stderr",
     "output_type": "stream",
     "text": [
      "/home/nishan/python-environments/env/lib/python3.5/site-packages/sklearn/linear_model/logistic.py:433: FutureWarning: Default solver will be changed to 'lbfgs' in 0.22. Specify a solver to silence this warning.\n",
      "  FutureWarning)\n"
     ]
    },
    {
     "data": {
      "text/plain": [
       "LogisticRegression(C=1.0, class_weight=None, dual=False, fit_intercept=True,\n",
       "          intercept_scaling=1, max_iter=100, multi_class='warn',\n",
       "          n_jobs=None, penalty='l2', random_state=1, solver='warn',\n",
       "          tol=0.0001, verbose=0, warm_start=False)"
      ]
     },
     "execution_count": 21,
     "metadata": {},
     "output_type": "execute_result"
    }
   ],
   "source": [
    "#Train benchmark model(Log Regression)\n",
    "from sklearn.linear_model import LogisticRegression\n",
    "clf0 = LogisticRegression(random_state=1)\n",
    "clf0.fit(X_train, y_train)"
   ]
  },
  {
   "cell_type": "code",
   "execution_count": 22,
   "metadata": {},
   "outputs": [
    {
     "name": "stdout",
     "output_type": "stream",
     "text": [
      "****Logistic regression evaluation****\n",
      "Accuracy: 0.8078260869565217\n",
      "Precision: 0.7983599520683919\n",
      "Recall: 0.8078260869565217\n",
      "f1_score: 0.7638031861262351\n"
     ]
    }
   ],
   "source": [
    "from sklearn.metrics import accuracy_score\n",
    "from sklearn.metrics import recall_score\n",
    "from sklearn.metrics import precision_score\n",
    "from sklearn.metrics import f1_score\n",
    "y_pred = clf0.predict(X_test)\n",
    "accuracy_regr=accuracy_score(y_test, y_pred)\n",
    "precision_regr=precision_score(y_test, y_pred,average='weighted')\n",
    "recall_regr=recall_score(y_test, y_pred,average='weighted')\n",
    "f1_regr=f1_score(y_test,y_pred,average='weighted')\n",
    "\n",
    "print(\"****Logistic regression evaluation****\")\n",
    "print(\"Accuracy:\", accuracy_regr)\n",
    "print(\"Precision:\", precision_regr)\n",
    "print(\"Recall:\", recall_regr)\n",
    "print('f1_score:',f1_regr)"
   ]
  },
  {
   "cell_type": "markdown",
   "metadata": {},
   "source": [
    "# 2. RandomForestClassifier"
   ]
  },
  {
   "cell_type": "code",
   "execution_count": 28,
   "metadata": {},
   "outputs": [
    {
     "name": "stderr",
     "output_type": "stream",
     "text": [
      "/home/nishan/python-environments/env/lib/python3.5/site-packages/sklearn/ensemble/forest.py:246: FutureWarning: The default value of n_estimators will change from 10 in version 0.20 to 100 in 0.22.\n",
      "  \"10 in version 0.20 to 100 in 0.22.\", FutureWarning)\n"
     ]
    },
    {
     "data": {
      "text/plain": [
       "RandomForestClassifier(bootstrap=True, class_weight=None, criterion='gini',\n",
       "            max_depth=None, max_features='auto', max_leaf_nodes=None,\n",
       "            min_impurity_decrease=0.0, min_impurity_split=None,\n",
       "            min_samples_leaf=1, min_samples_split=2,\n",
       "            min_weight_fraction_leaf=0.0, n_estimators=10, n_jobs=None,\n",
       "            oob_score=False, random_state=10, verbose=0, warm_start=False)"
      ]
     },
     "execution_count": 28,
     "metadata": {},
     "output_type": "execute_result"
    }
   ],
   "source": [
    "from sklearn.ensemble import RandomForestClassifier\n",
    "clf1=RandomForestClassifier(random_state=10)\n",
    "clf1.fit(X_train,y_train)"
   ]
  },
  {
   "cell_type": "code",
   "execution_count": 29,
   "metadata": {},
   "outputs": [
    {
     "name": "stdout",
     "output_type": "stream",
     "text": [
      "****Random forest classifier evaluation****\n",
      "accuracy: 0.8047826086956522\n",
      "Precision: 0.7835999545076814\n",
      "Recall: 0.8047826086956522\n",
      "f1_score: 0.7829416239040095\n"
     ]
    }
   ],
   "source": [
    "y_pred1 = clf1.predict(X_test)\n",
    "accuracy_rf=accuracy_score(y_test, y_pred1)\n",
    "precision_rf=precision_score(y_test, y_pred1,average='weighted')\n",
    "recall_rf=recall_score(y_test, y_pred1,average='weighted')\n",
    "f1_rf=f1_score(y_test,y_pred1,average='weighted')\n",
    "\n",
    "print(\"****Random forest classifier evaluation****\")\n",
    "print(\"accuracy:\", accuracy_rf)\n",
    "print(\"Precision:\", precision_rf)\n",
    "print(\"Recall:\", recall_rf)\n",
    "print('f1_score:',f1_rf)"
   ]
  },
  {
   "cell_type": "markdown",
   "metadata": {},
   "source": [
    "# 3.Gradient boost"
   ]
  },
  {
   "cell_type": "code",
   "execution_count": 33,
   "metadata": {},
   "outputs": [
    {
     "data": {
      "text/plain": [
       "GradientBoostingClassifier(criterion='friedman_mse', init=None,\n",
       "              learning_rate=0.1, loss='deviance', max_depth=3,\n",
       "              max_features=None, max_leaf_nodes=None,\n",
       "              min_impurity_decrease=0.0, min_impurity_split=None,\n",
       "              min_samples_leaf=1, min_samples_split=2,\n",
       "              min_weight_fraction_leaf=0.0, n_estimators=100,\n",
       "              n_iter_no_change=None, presort='auto', random_state=10,\n",
       "              subsample=1.0, tol=0.0001, validation_fraction=0.1,\n",
       "              verbose=0, warm_start=False)"
      ]
     },
     "execution_count": 33,
     "metadata": {},
     "output_type": "execute_result"
    }
   ],
   "source": [
    "#gradeint boost\n",
    "from sklearn.ensemble import GradientBoostingClassifier\n",
    "clf2=GradientBoostingClassifier(random_state=10)\n",
    "clf2.fit(X_train,y_train)"
   ]
  },
  {
   "cell_type": "code",
   "execution_count": 34,
   "metadata": {},
   "outputs": [
    {
     "name": "stdout",
     "output_type": "stream",
     "text": [
      "****Gradientboost evaluation****\n",
      "accuracy: 0.8182608695652174\n",
      "Precision: 0.8020498102644634\n",
      "Recall: 0.8182608695652174\n",
      "f1_score: 0.7950147404683825\n"
     ]
    }
   ],
   "source": [
    "y_pred2 = clf2.predict(X_test)\n",
    "accuracy_gb=accuracy_score(y_test, y_pred2)\n",
    "precision_gb=precision_score(y_test, y_pred2,average='weighted')\n",
    "recall_gb=recall_score(y_test, y_pred2,average='weighted')\n",
    "f1_gb=f1_score(y_test,y_pred2,average='weighted')\n",
    "print(\"****Gradientboost evaluation****\")\n",
    "print(\"accuracy:\", accuracy_gb)\n",
    "print(\"Precision:\", precision_gb)\n",
    "print(\"Recall:\", recall_gb)\n",
    "print('f1_score:',f1_gb)"
   ]
  },
  {
   "cell_type": "markdown",
   "metadata": {},
   "source": [
    "# 4.Adaboost"
   ]
  },
  {
   "cell_type": "code",
   "execution_count": 35,
   "metadata": {},
   "outputs": [
    {
     "data": {
      "text/plain": [
       "AdaBoostClassifier(algorithm='SAMME.R', base_estimator=None,\n",
       "          learning_rate=1.0, n_estimators=50, random_state=10)"
      ]
     },
     "execution_count": 35,
     "metadata": {},
     "output_type": "execute_result"
    }
   ],
   "source": [
    "#adaboost\n",
    "from sklearn.ensemble import AdaBoostClassifier\n",
    "clf3 = AdaBoostClassifier(random_state=10)\n",
    "clf3.fit(X_train, y_train)"
   ]
  },
  {
   "cell_type": "code",
   "execution_count": 36,
   "metadata": {},
   "outputs": [
    {
     "name": "stdout",
     "output_type": "stream",
     "text": [
      "****Adaboost evaluation****\n",
      "accuracy: 0.8147826086956522\n",
      "Precision: 0.7976901782748311\n",
      "Recall: 0.8147826086956522\n",
      "f1_score: 0.7886172252473349\n"
     ]
    }
   ],
   "source": [
    "y_pred3 = clf3.predict(X_test)\n",
    "accuracy_ab=accuracy_score(y_test, y_pred3)\n",
    "precision_ab=precision_score(y_test, y_pred3,average='weighted')\n",
    "recall_ab=recall_score(y_test, y_pred3,average='weighted')\n",
    "f1_ab=f1_score(y_test,y_pred3,average='weighted')\n",
    "\n",
    "print(\"****Adaboost evaluation****\")\n",
    "print(\"accuracy:\", accuracy_ab)\n",
    "print(\"Precision:\", precision_ab)\n",
    "print(\"Recall:\", recall_ab)\n",
    "print('f1_score:',f1_ab)"
   ]
  },
  {
   "cell_type": "markdown",
   "metadata": {},
   "source": [
    "# 5.Voting(for random forest,gradient boost and adaboost)"
   ]
  },
  {
   "cell_type": "code",
   "execution_count": 37,
   "metadata": {},
   "outputs": [
    {
     "data": {
      "text/plain": [
       "VotingClassifier(estimators=[('rf', RandomForestClassifier(bootstrap=True, class_weight=None, criterion='gini',\n",
       "            max_depth=None, max_features='auto', max_leaf_nodes=None,\n",
       "            min_impurity_decrease=0.0, min_impurity_split=None,\n",
       "            min_samples_leaf=1, min_samples_split=2,\n",
       "            min_we...thm='SAMME.R', base_estimator=None,\n",
       "          learning_rate=1.0, n_estimators=50, random_state=10))],\n",
       "         flatten_transform=None, n_jobs=None, voting='hard', weights=None)"
      ]
     },
     "execution_count": 37,
     "metadata": {},
     "output_type": "execute_result"
    }
   ],
   "source": [
    "#voting classifier\n",
    "from sklearn.ensemble import VotingClassifier\n",
    "clf4 = VotingClassifier(estimators=[('rf',clf1),('gb', clf2),('ab',clf3)])\n",
    "clf4.fit(X_train,y_train)"
   ]
  },
  {
   "cell_type": "code",
   "execution_count": 38,
   "metadata": {},
   "outputs": [
    {
     "name": "stdout",
     "output_type": "stream",
     "text": [
      "****voting evaluation****\n",
      "accuracy: 0.816304347826087\n",
      "Precision: 0.7995758355247065\n",
      "Recall: 0.816304347826087\n",
      "f1_score: 0.7915298224346577\n"
     ]
    }
   ],
   "source": [
    "y_pred4 = clf4.predict(X_test)\n",
    "accuracy_vc=accuracy_score(y_test, y_pred4)\n",
    "precision_vc=precision_score(y_test, y_pred4,average='weighted')\n",
    "recall_vc=recall_score(y_test, y_pred4,average='weighted')\n",
    "f1_vc=f1_score(y_test,y_pred4,average='weighted')\n",
    "print(\"****voting evaluation****\")\n",
    "print(\"accuracy:\", accuracy_vc)\n",
    "print(\"Precision:\", precision_vc)\n",
    "print(\"Recall:\", recall_vc)\n",
    "print('f1_score:',f1_vc)"
   ]
  },
  {
   "cell_type": "markdown",
   "metadata": {},
   "source": [
    "# 6.Artificial neural network"
   ]
  },
  {
   "cell_type": "code",
   "execution_count": 39,
   "metadata": {},
   "outputs": [
    {
     "name": "stderr",
     "output_type": "stream",
     "text": [
      "Using TensorFlow backend.\n"
     ]
    }
   ],
   "source": [
    "# keras imports for the dataset and building our neural network\n",
    "from keras.models import Sequential, load_model\n",
    "from keras.layers.core import Dense, Dropout, Activation\n",
    "from keras.utils import np_utils"
   ]
  },
  {
   "cell_type": "code",
   "execution_count": 40,
   "metadata": {},
   "outputs": [],
   "source": [
    "Y_train = np_utils.to_categorical(y_train, 2)\n",
    "Y_test = np_utils.to_categorical(y_test, 2)"
   ]
  },
  {
   "cell_type": "code",
   "execution_count": 41,
   "metadata": {},
   "outputs": [
    {
     "data": {
      "text/plain": [
       "(18399, 2)"
      ]
     },
     "execution_count": 41,
     "metadata": {},
     "output_type": "execute_result"
    }
   ],
   "source": [
    "Y_train.shape"
   ]
  },
  {
   "cell_type": "code",
   "execution_count": 42,
   "metadata": {},
   "outputs": [],
   "source": [
    "model = Sequential()\n",
    "model.add(Dense(32, input_shape=(23,)))\n",
    "model.add(Activation('relu'))                            \n",
    "model.add(Dropout(0.2))\n",
    "\n",
    "model.add(Dense(64))\n",
    "model.add(Activation('relu'))\n",
    "model.add(Dropout(0.25))\n",
    "\n",
    "model.add(Dense(128))\n",
    "model.add(Activation('relu'))\n",
    "model.add(Dropout(0.3))\n",
    "\n",
    "model.add(Dense(256))\n",
    "model.add(Activation('relu'))\n",
    "model.add(Dropout(0.35))\n",
    "\n",
    "model.add(Dense(2))\n",
    "model.add(Activation('softmax'))"
   ]
  },
  {
   "cell_type": "code",
   "execution_count": 43,
   "metadata": {},
   "outputs": [],
   "source": [
    "model.compile(loss='binary_crossentropy', optimizer='SGD',metrics=[\"accuracy\"])\n"
   ]
  },
  {
   "cell_type": "code",
   "execution_count": 44,
   "metadata": {},
   "outputs": [
    {
     "name": "stdout",
     "output_type": "stream",
     "text": [
      "Train on 18399 samples, validate on 4600 samples\n",
      "Epoch 1/50\n",
      " - 2s - loss: 0.5482 - acc: 0.7691 - val_loss: 0.5236 - val_acc: 0.7750\n",
      "Epoch 2/50\n",
      " - 1s - loss: 0.5289 - acc: 0.7751 - val_loss: 0.5166 - val_acc: 0.7750\n",
      "Epoch 3/50\n",
      " - 1s - loss: 0.5218 - acc: 0.7751 - val_loss: 0.5099 - val_acc: 0.7750\n",
      "Epoch 4/50\n",
      " - 1s - loss: 0.5177 - acc: 0.7753 - val_loss: 0.5005 - val_acc: 0.7750\n",
      "Epoch 5/50\n",
      " - 1s - loss: 0.5126 - acc: 0.7752 - val_loss: 0.4923 - val_acc: 0.7748\n",
      "Epoch 6/50\n",
      " - 1s - loss: 0.5060 - acc: 0.7762 - val_loss: 0.4835 - val_acc: 0.7774\n",
      "Epoch 7/50\n",
      " - 1s - loss: 0.5010 - acc: 0.7799 - val_loss: 0.4765 - val_acc: 0.7841\n",
      "Epoch 8/50\n",
      " - 1s - loss: 0.4963 - acc: 0.7829 - val_loss: 0.4725 - val_acc: 0.7896\n",
      "Epoch 9/50\n",
      " - 1s - loss: 0.4914 - acc: 0.7841 - val_loss: 0.4668 - val_acc: 0.7996\n",
      "Epoch 10/50\n",
      " - 1s - loss: 0.4870 - acc: 0.7893 - val_loss: 0.4627 - val_acc: 0.8026\n",
      "Epoch 11/50\n",
      " - 1s - loss: 0.4819 - acc: 0.7905 - val_loss: 0.4592 - val_acc: 0.8052\n",
      "Epoch 12/50\n",
      " - 1s - loss: 0.4804 - acc: 0.7928 - val_loss: 0.4606 - val_acc: 0.8054\n",
      "Epoch 13/50\n",
      " - 1s - loss: 0.4788 - acc: 0.7951 - val_loss: 0.4561 - val_acc: 0.8057\n",
      "Epoch 14/50\n",
      " - 1s - loss: 0.4758 - acc: 0.7959 - val_loss: 0.4533 - val_acc: 0.8093\n",
      "Epoch 15/50\n",
      " - 1s - loss: 0.4751 - acc: 0.7986 - val_loss: 0.4529 - val_acc: 0.8093\n",
      "Epoch 16/50\n",
      " - 1s - loss: 0.4764 - acc: 0.7975 - val_loss: 0.4530 - val_acc: 0.8078\n",
      "Epoch 17/50\n",
      " - 1s - loss: 0.4755 - acc: 0.7963 - val_loss: 0.4525 - val_acc: 0.8078\n",
      "Epoch 18/50\n",
      " - 1s - loss: 0.4732 - acc: 0.7974 - val_loss: 0.4507 - val_acc: 0.8096\n",
      "Epoch 19/50\n",
      " - 1s - loss: 0.4728 - acc: 0.7973 - val_loss: 0.4512 - val_acc: 0.8107\n",
      "Epoch 20/50\n",
      " - 1s - loss: 0.4713 - acc: 0.8004 - val_loss: 0.4481 - val_acc: 0.8133\n",
      "Epoch 21/50\n",
      " - 1s - loss: 0.4717 - acc: 0.7984 - val_loss: 0.4491 - val_acc: 0.8120\n",
      "Epoch 22/50\n",
      " - 1s - loss: 0.4689 - acc: 0.8005 - val_loss: 0.4474 - val_acc: 0.8135\n",
      "Epoch 23/50\n",
      " - 1s - loss: 0.4689 - acc: 0.8013 - val_loss: 0.4468 - val_acc: 0.8130\n",
      "Epoch 24/50\n",
      " - 1s - loss: 0.4682 - acc: 0.8022 - val_loss: 0.4460 - val_acc: 0.8135\n",
      "Epoch 25/50\n",
      " - 1s - loss: 0.4666 - acc: 0.8010 - val_loss: 0.4464 - val_acc: 0.8126\n",
      "Epoch 26/50\n",
      " - 1s - loss: 0.4675 - acc: 0.8015 - val_loss: 0.4466 - val_acc: 0.8130\n",
      "Epoch 27/50\n",
      " - 1s - loss: 0.4665 - acc: 0.8024 - val_loss: 0.4451 - val_acc: 0.8152\n",
      "Epoch 28/50\n",
      " - 1s - loss: 0.4661 - acc: 0.8050 - val_loss: 0.4458 - val_acc: 0.8139\n",
      "Epoch 29/50\n",
      " - 1s - loss: 0.4657 - acc: 0.8037 - val_loss: 0.4476 - val_acc: 0.8113\n",
      "Epoch 30/50\n",
      " - 1s - loss: 0.4660 - acc: 0.8034 - val_loss: 0.4461 - val_acc: 0.8130\n",
      "Epoch 31/50\n",
      " - 1s - loss: 0.4648 - acc: 0.8027 - val_loss: 0.4445 - val_acc: 0.8157\n",
      "Epoch 32/50\n",
      " - 1s - loss: 0.4630 - acc: 0.8040 - val_loss: 0.4445 - val_acc: 0.8154\n",
      "Epoch 33/50\n",
      " - 1s - loss: 0.4654 - acc: 0.8025 - val_loss: 0.4440 - val_acc: 0.8146\n",
      "Epoch 34/50\n",
      " - 1s - loss: 0.4641 - acc: 0.8031 - val_loss: 0.4431 - val_acc: 0.8159\n",
      "Epoch 35/50\n",
      " - 1s - loss: 0.4649 - acc: 0.8046 - val_loss: 0.4440 - val_acc: 0.8157\n",
      "Epoch 36/50\n",
      " - 1s - loss: 0.4642 - acc: 0.8033 - val_loss: 0.4446 - val_acc: 0.8137\n",
      "Epoch 37/50\n",
      " - 1s - loss: 0.4649 - acc: 0.8018 - val_loss: 0.4426 - val_acc: 0.8152\n",
      "Epoch 38/50\n",
      " - 1s - loss: 0.4644 - acc: 0.8043 - val_loss: 0.4445 - val_acc: 0.8148\n",
      "Epoch 39/50\n",
      " - 1s - loss: 0.4630 - acc: 0.8040 - val_loss: 0.4428 - val_acc: 0.8167\n",
      "Epoch 40/50\n",
      " - 1s - loss: 0.4639 - acc: 0.8057 - val_loss: 0.4421 - val_acc: 0.8167\n",
      "Epoch 41/50\n",
      " - 1s - loss: 0.4645 - acc: 0.8041 - val_loss: 0.4425 - val_acc: 0.8161\n",
      "Epoch 42/50\n",
      " - 1s - loss: 0.4622 - acc: 0.8056 - val_loss: 0.4425 - val_acc: 0.8170\n",
      "Epoch 43/50\n",
      " - 1s - loss: 0.4610 - acc: 0.8062 - val_loss: 0.4433 - val_acc: 0.8157\n",
      "Epoch 44/50\n",
      " - 1s - loss: 0.4626 - acc: 0.8048 - val_loss: 0.4435 - val_acc: 0.8154\n",
      "Epoch 45/50\n",
      " - 1s - loss: 0.4616 - acc: 0.8056 - val_loss: 0.4414 - val_acc: 0.8157\n",
      "Epoch 46/50\n",
      " - 1s - loss: 0.4625 - acc: 0.8048 - val_loss: 0.4414 - val_acc: 0.8170\n",
      "Epoch 47/50\n",
      " - 1s - loss: 0.4625 - acc: 0.8047 - val_loss: 0.4415 - val_acc: 0.8167\n",
      "Epoch 48/50\n",
      " - 1s - loss: 0.4625 - acc: 0.8063 - val_loss: 0.4416 - val_acc: 0.8170\n",
      "Epoch 49/50\n",
      " - 1s - loss: 0.4605 - acc: 0.8046 - val_loss: 0.4407 - val_acc: 0.8170\n",
      "Epoch 50/50\n",
      " - 1s - loss: 0.4603 - acc: 0.8076 - val_loss: 0.4408 - val_acc: 0.8176\n"
     ]
    }
   ],
   "source": [
    "fit_model = model.fit(X_train, Y_train,\n",
    "          batch_size=45, epochs=50,\n",
    "          verbose=2,\n",
    "          validation_data=(X_test, Y_test))"
   ]
  },
  {
   "cell_type": "code",
   "execution_count": 45,
   "metadata": {},
   "outputs": [
    {
     "name": "stdout",
     "output_type": "stream",
     "text": [
      "4600/4600 [==============================] - 0s 44us/step\n"
     ]
    }
   ],
   "source": [
    "score = model.evaluate(X_test, Y_test, verbose=1)"
   ]
  },
  {
   "cell_type": "code",
   "execution_count": 46,
   "metadata": {},
   "outputs": [
    {
     "name": "stdout",
     "output_type": "stream",
     "text": [
      "Test loss: 0.44075543183347454\n",
      "Test accuracy: 0.8176086957558342\n"
     ]
    }
   ],
   "source": [
    "print('Test loss:', score[0])\n",
    "print('Test accuracy:', score[1])"
   ]
  },
  {
   "cell_type": "code",
   "execution_count": 47,
   "metadata": {},
   "outputs": [
    {
     "name": "stdout",
     "output_type": "stream",
     "text": [
      "<keras.callbacks.History object at 0x7f930b00f080>\n"
     ]
    },
    {
     "data": {
      "image/png": "[encoded data removed]",
      "text/plain": [
       "<Figure size 432x288 with 1 Axes>"
      ]
     },
     "metadata": {
      "needs_background": "light"
     },
     "output_type": "display_data"
    },
    {
     "data": {
      "image/png": "[encoded data removed]",
      "text/plain": [
       "<Figure size 432x288 with 1 Axes>"
      ]
     },
     "metadata": {
      "needs_background": "light"
     },
     "output_type": "display_data"
    }
   ],
   "source": [
    "# Accuracy\n",
    "print(fit_model)\n",
    "fig1, ax_acc = plt.subplots()\n",
    "plt.plot(fit_model.history['acc'])\n",
    "plt.plot(fit_model.history['val_acc'])\n",
    "plt.xlabel('Epoch')\n",
    "plt.ylabel('Accuracy')\n",
    "plt.title('Model - Accuracy')\n",
    "plt.legend(['Training', 'Validation'], loc='lower right')\n",
    "plt.show()\n",
    "\n",
    "\n",
    "\n",
    "# Loss\n",
    "fig2, ax_loss = plt.subplots()\n",
    "plt.xlabel('Epoch')\n",
    "plt.ylabel('Loss')\n",
    "plt.title('Model- Loss')\n",
    "plt.legend(['Training', 'Validation'], loc='upper right')\n",
    "plt.plot(fit_model.history['loss'])\n",
    "plt.plot(fit_model.history['val_loss'])\n",
    "plt.show()"
   ]
  },
  {
   "cell_type": "code",
   "execution_count": null,
   "metadata": {},
   "outputs": [],
   "source": []
  }
 ],
 "metadata": {
  "kernelspec": {
   "display_name": "Python 3",
   "language": "python",
   "name": "python3"
  },
  "language_info": {
   "codemirror_mode": {
    "name": "ipython",
    "version": 3
   },
   "file_extension": ".py",
   "mimetype": "text/x-python",
   "name": "python",
   "nbconvert_exporter": "python",
   "pygments_lexer": "ipython3",
   "version": "3.5.2"
  }
 },
 "nbformat": 4,
 "nbformat_minor": 2
}
